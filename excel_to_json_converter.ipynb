{
 "cells": [
  {
   "cell_type": "code",
   "execution_count": 14,
   "id": "2a0d67d8",
   "metadata": {},
   "outputs": [
    {
     "name": "stdout",
     "output_type": "stream",
     "text": [
      "/Users/solomonzhang/CSc447/CSc-474-Project-2\n"
     ]
    }
   ],
   "source": [
    "import os\n",
    "print(os.getcwd())\n",
    "# the files will be in this directory"
   ]
  },
  {
   "cell_type": "code",
   "execution_count": 15,
   "id": "ca58f63a",
   "metadata": {},
   "outputs": [],
   "source": [
    "import pandas as pd"
   ]
  },
  {
   "cell_type": "code",
   "execution_count": 16,
   "id": "d8c4e988",
   "metadata": {},
   "outputs": [],
   "source": [
    "# excel sheets for SWOT\n",
    "\n",
    "excelSheets = [\"Strength AnalysisData.xlsx\", \"Weakness Analysis Data.xlsx\", \"Opportunity Analysis Data.xlsx\", \"Threat Analysis Data.xlsx\"]\n",
    "\n",
    "# corresponding json names\n",
    "# name of each json files\n",
    "jsonNames = [\"strength.json\", \"weakness.json\", \"opportunity.json\", \"threat.json\"]\n"
   ]
  },
  {
   "cell_type": "code",
   "execution_count": 17,
   "id": "7e109a9a",
   "metadata": {},
   "outputs": [],
   "source": [
    "# for each excel sheet write to json\n",
    "\n",
    "for i in range(len(excelSheets)):\n",
    "    df = pd.read_excel(excelSheets[i])\n",
    "    with open(jsonNames[i], 'w') as f:\n",
    "        f.write(df.to_json(orient='records', indent=2))\n"
   ]
  },
  {
   "cell_type": "code",
   "execution_count": null,
   "id": "2cc5a1c1",
   "metadata": {},
   "outputs": [],
   "source": []
  }
 ],
 "metadata": {
  "kernelspec": {
   "display_name": "Python 3 (ipykernel)",
   "language": "python",
   "name": "python3"
  },
  "language_info": {
   "codemirror_mode": {
    "name": "ipython",
    "version": 3
   },
   "file_extension": ".py",
   "mimetype": "text/x-python",
   "name": "python",
   "nbconvert_exporter": "python",
   "pygments_lexer": "ipython3",
   "version": "3.9.7"
  }
 },
 "nbformat": 4,
 "nbformat_minor": 5
}
