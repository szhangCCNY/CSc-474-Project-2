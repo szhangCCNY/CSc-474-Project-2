{
 "cells": [
  {
   "cell_type": "code",
   "execution_count": 67,
   "id": "2a0d67d8",
   "metadata": {},
   "outputs": [
    {
     "name": "stdout",
     "output_type": "stream",
     "text": [
      "/Users/solomonzhang/CSc447/CSc-474-Project-2\n"
     ]
    }
   ],
   "source": [
    "import os\n",
    "print(os.getcwd())\n",
    "# the files will be in this directory"
   ]
  },
  {
   "cell_type": "code",
   "execution_count": 68,
   "id": "ca58f63a",
   "metadata": {},
   "outputs": [],
   "source": [
    "import pandas as pd"
   ]
  },
  {
   "cell_type": "code",
   "execution_count": 69,
   "id": "d8c4e988",
   "metadata": {},
   "outputs": [],
   "source": [
    "# excel sheets for SWOT\n",
    "\n",
    "excelSheets = [\"Strength AnalysisData.xlsx\", \"Weakness Analysis Data.xlsx\", \"Opportunity Analysis Data.xlsx\", \"Threat Analysis Data.xlsx\"]\n",
    "\n",
    "# corresponding json names\n",
    "# name of each json files\n",
    "jsonNames = [\"strength.json\", \"weakness.json\", \"opportunity.json\", \"threat.json\"]\n"
   ]
  },
  {
   "cell_type": "code",
   "execution_count": 70,
   "id": "4d08835a",
   "metadata": {},
   "outputs": [],
   "source": [
    "def getMinProbAdjust(estVal, minProb):\n",
    "    if pd.notna(minProb):\n",
    "        return minProb * (estVal/100)\n",
    "    else:\n",
    "        return 0\n",
    "    \n",
    "def getMaxProbAdjust(estVal, maxProb):\n",
    "    if pd.notna(maxProb):\n",
    "        return maxProb * (estVal/100)\n",
    "    else:\n",
    "        return 0\n",
    "    \n",
    "def getAvgProbAdjust(minAdjust, maxAdjust):\n",
    "    if (pd.notna(minAdjust) and pd.notna(maxAdjust)):\n",
    "        return (minAdjust + maxAdjust) / 2\n",
    "    else:\n",
    "        return 0\n",
    "\n",
    "def getRealProbAdjust(estVal, realProb):\n",
    "    if (pd.notna(estVal) and pd.notna(realProb)):\n",
    "        return estVal*(realProb/100)\n",
    "    else:\n",
    "        return 0\n",
    "\n",
    "def get3PointProbAdjust(estVal, threePointProb):\n",
    "    if (pd.notna(estVal) and pd.notna(maxAdjust)):\n",
    "        return estVal * (threePointProb/ 100)\n",
    "    else:\n",
    "        return 0\n",
    "\n",
    "def getPertAdjust(estVal, pertProb):\n",
    "    if (pd.notna(estVal) and pd.notna(pertProb)):\n",
    "        return estVal * (pertProb/ 100)\n",
    "    else:\n",
    "        return 0"
   ]
  },
  {
   "cell_type": "code",
   "execution_count": 71,
   "id": "7e109a9a",
   "metadata": {},
   "outputs": [
    {
     "ename": "FileNotFoundError",
     "evalue": "[Errno 2] No such file or directory: 'Strength AnalysisData.xlsx'",
     "output_type": "error",
     "traceback": [
      "\u001b[0;31m---------------------------------------------------------------------------\u001b[0m",
      "\u001b[0;31mFileNotFoundError\u001b[0m                         Traceback (most recent call last)",
      "\u001b[0;32m/var/folders/t1/zrt3_rb53vlfh6c6jgdmljpr0000gn/T/ipykernel_1474/2170571921.py\u001b[0m in \u001b[0;36m<module>\u001b[0;34m\u001b[0m\n\u001b[1;32m      2\u001b[0m \u001b[0;34m\u001b[0m\u001b[0m\n\u001b[1;32m      3\u001b[0m \u001b[0;32mfor\u001b[0m \u001b[0mi\u001b[0m \u001b[0;32min\u001b[0m \u001b[0mrange\u001b[0m\u001b[0;34m(\u001b[0m\u001b[0mlen\u001b[0m\u001b[0;34m(\u001b[0m\u001b[0mexcelSheets\u001b[0m\u001b[0;34m)\u001b[0m\u001b[0;34m)\u001b[0m\u001b[0;34m:\u001b[0m\u001b[0;34m\u001b[0m\u001b[0;34m\u001b[0m\u001b[0m\n\u001b[0;32m----> 4\u001b[0;31m     \u001b[0mdf\u001b[0m \u001b[0;34m=\u001b[0m \u001b[0mpd\u001b[0m\u001b[0;34m.\u001b[0m\u001b[0mread_excel\u001b[0m\u001b[0;34m(\u001b[0m\u001b[0mexcelSheets\u001b[0m\u001b[0;34m[\u001b[0m\u001b[0mi\u001b[0m\u001b[0;34m]\u001b[0m\u001b[0;34m)\u001b[0m\u001b[0;34m\u001b[0m\u001b[0;34m\u001b[0m\u001b[0m\n\u001b[0m\u001b[1;32m      5\u001b[0m \u001b[0;31m#     print(df.info())\u001b[0m\u001b[0;34m\u001b[0m\u001b[0;34m\u001b[0m\u001b[0m\n\u001b[1;32m      6\u001b[0m     \u001b[0;31m# can only compute if you have this\u001b[0m\u001b[0;34m\u001b[0m\u001b[0;34m\u001b[0m\u001b[0m\n",
      "\u001b[0;32m~/opt/anaconda3/lib/python3.9/site-packages/pandas/util/_decorators.py\u001b[0m in \u001b[0;36mwrapper\u001b[0;34m(*args, **kwargs)\u001b[0m\n\u001b[1;32m    309\u001b[0m                     \u001b[0mstacklevel\u001b[0m\u001b[0;34m=\u001b[0m\u001b[0mstacklevel\u001b[0m\u001b[0;34m,\u001b[0m\u001b[0;34m\u001b[0m\u001b[0;34m\u001b[0m\u001b[0m\n\u001b[1;32m    310\u001b[0m                 )\n\u001b[0;32m--> 311\u001b[0;31m             \u001b[0;32mreturn\u001b[0m \u001b[0mfunc\u001b[0m\u001b[0;34m(\u001b[0m\u001b[0;34m*\u001b[0m\u001b[0margs\u001b[0m\u001b[0;34m,\u001b[0m \u001b[0;34m**\u001b[0m\u001b[0mkwargs\u001b[0m\u001b[0;34m)\u001b[0m\u001b[0;34m\u001b[0m\u001b[0;34m\u001b[0m\u001b[0m\n\u001b[0m\u001b[1;32m    312\u001b[0m \u001b[0;34m\u001b[0m\u001b[0m\n\u001b[1;32m    313\u001b[0m         \u001b[0;32mreturn\u001b[0m \u001b[0mwrapper\u001b[0m\u001b[0;34m\u001b[0m\u001b[0;34m\u001b[0m\u001b[0m\n",
      "\u001b[0;32m~/opt/anaconda3/lib/python3.9/site-packages/pandas/io/excel/_base.py\u001b[0m in \u001b[0;36mread_excel\u001b[0;34m(io, sheet_name, header, names, index_col, usecols, squeeze, dtype, engine, converters, true_values, false_values, skiprows, nrows, na_values, keep_default_na, na_filter, verbose, parse_dates, date_parser, thousands, comment, skipfooter, convert_float, mangle_dupe_cols, storage_options)\u001b[0m\n\u001b[1;32m    362\u001b[0m     \u001b[0;32mif\u001b[0m \u001b[0;32mnot\u001b[0m \u001b[0misinstance\u001b[0m\u001b[0;34m(\u001b[0m\u001b[0mio\u001b[0m\u001b[0;34m,\u001b[0m \u001b[0mExcelFile\u001b[0m\u001b[0;34m)\u001b[0m\u001b[0;34m:\u001b[0m\u001b[0;34m\u001b[0m\u001b[0;34m\u001b[0m\u001b[0m\n\u001b[1;32m    363\u001b[0m         \u001b[0mshould_close\u001b[0m \u001b[0;34m=\u001b[0m \u001b[0;32mTrue\u001b[0m\u001b[0;34m\u001b[0m\u001b[0;34m\u001b[0m\u001b[0m\n\u001b[0;32m--> 364\u001b[0;31m         \u001b[0mio\u001b[0m \u001b[0;34m=\u001b[0m \u001b[0mExcelFile\u001b[0m\u001b[0;34m(\u001b[0m\u001b[0mio\u001b[0m\u001b[0;34m,\u001b[0m \u001b[0mstorage_options\u001b[0m\u001b[0;34m=\u001b[0m\u001b[0mstorage_options\u001b[0m\u001b[0;34m,\u001b[0m \u001b[0mengine\u001b[0m\u001b[0;34m=\u001b[0m\u001b[0mengine\u001b[0m\u001b[0;34m)\u001b[0m\u001b[0;34m\u001b[0m\u001b[0;34m\u001b[0m\u001b[0m\n\u001b[0m\u001b[1;32m    365\u001b[0m     \u001b[0;32melif\u001b[0m \u001b[0mengine\u001b[0m \u001b[0;32mand\u001b[0m \u001b[0mengine\u001b[0m \u001b[0;34m!=\u001b[0m \u001b[0mio\u001b[0m\u001b[0;34m.\u001b[0m\u001b[0mengine\u001b[0m\u001b[0;34m:\u001b[0m\u001b[0;34m\u001b[0m\u001b[0;34m\u001b[0m\u001b[0m\n\u001b[1;32m    366\u001b[0m         raise ValueError(\n",
      "\u001b[0;32m~/opt/anaconda3/lib/python3.9/site-packages/pandas/io/excel/_base.py\u001b[0m in \u001b[0;36m__init__\u001b[0;34m(self, path_or_buffer, engine, storage_options)\u001b[0m\n\u001b[1;32m   1189\u001b[0m                 \u001b[0mext\u001b[0m \u001b[0;34m=\u001b[0m \u001b[0;34m\"xls\"\u001b[0m\u001b[0;34m\u001b[0m\u001b[0;34m\u001b[0m\u001b[0m\n\u001b[1;32m   1190\u001b[0m             \u001b[0;32melse\u001b[0m\u001b[0;34m:\u001b[0m\u001b[0;34m\u001b[0m\u001b[0;34m\u001b[0m\u001b[0m\n\u001b[0;32m-> 1191\u001b[0;31m                 ext = inspect_excel_format(\n\u001b[0m\u001b[1;32m   1192\u001b[0m                     \u001b[0mcontent_or_path\u001b[0m\u001b[0;34m=\u001b[0m\u001b[0mpath_or_buffer\u001b[0m\u001b[0;34m,\u001b[0m \u001b[0mstorage_options\u001b[0m\u001b[0;34m=\u001b[0m\u001b[0mstorage_options\u001b[0m\u001b[0;34m\u001b[0m\u001b[0;34m\u001b[0m\u001b[0m\n\u001b[1;32m   1193\u001b[0m                 )\n",
      "\u001b[0;32m~/opt/anaconda3/lib/python3.9/site-packages/pandas/io/excel/_base.py\u001b[0m in \u001b[0;36minspect_excel_format\u001b[0;34m(content_or_path, storage_options)\u001b[0m\n\u001b[1;32m   1068\u001b[0m         \u001b[0mcontent_or_path\u001b[0m \u001b[0;34m=\u001b[0m \u001b[0mBytesIO\u001b[0m\u001b[0;34m(\u001b[0m\u001b[0mcontent_or_path\u001b[0m\u001b[0;34m)\u001b[0m\u001b[0;34m\u001b[0m\u001b[0;34m\u001b[0m\u001b[0m\n\u001b[1;32m   1069\u001b[0m \u001b[0;34m\u001b[0m\u001b[0m\n\u001b[0;32m-> 1070\u001b[0;31m     with get_handle(\n\u001b[0m\u001b[1;32m   1071\u001b[0m         \u001b[0mcontent_or_path\u001b[0m\u001b[0;34m,\u001b[0m \u001b[0;34m\"rb\"\u001b[0m\u001b[0;34m,\u001b[0m \u001b[0mstorage_options\u001b[0m\u001b[0;34m=\u001b[0m\u001b[0mstorage_options\u001b[0m\u001b[0;34m,\u001b[0m \u001b[0mis_text\u001b[0m\u001b[0;34m=\u001b[0m\u001b[0;32mFalse\u001b[0m\u001b[0;34m\u001b[0m\u001b[0;34m\u001b[0m\u001b[0m\n\u001b[1;32m   1072\u001b[0m     ) as handle:\n",
      "\u001b[0;32m~/opt/anaconda3/lib/python3.9/site-packages/pandas/io/common.py\u001b[0m in \u001b[0;36mget_handle\u001b[0;34m(path_or_buf, mode, encoding, compression, memory_map, is_text, errors, storage_options)\u001b[0m\n\u001b[1;32m    709\u001b[0m         \u001b[0;32melse\u001b[0m\u001b[0;34m:\u001b[0m\u001b[0;34m\u001b[0m\u001b[0;34m\u001b[0m\u001b[0m\n\u001b[1;32m    710\u001b[0m             \u001b[0;31m# Binary mode\u001b[0m\u001b[0;34m\u001b[0m\u001b[0;34m\u001b[0m\u001b[0m\n\u001b[0;32m--> 711\u001b[0;31m             \u001b[0mhandle\u001b[0m \u001b[0;34m=\u001b[0m \u001b[0mopen\u001b[0m\u001b[0;34m(\u001b[0m\u001b[0mhandle\u001b[0m\u001b[0;34m,\u001b[0m \u001b[0mioargs\u001b[0m\u001b[0;34m.\u001b[0m\u001b[0mmode\u001b[0m\u001b[0;34m)\u001b[0m\u001b[0;34m\u001b[0m\u001b[0;34m\u001b[0m\u001b[0m\n\u001b[0m\u001b[1;32m    712\u001b[0m         \u001b[0mhandles\u001b[0m\u001b[0;34m.\u001b[0m\u001b[0mappend\u001b[0m\u001b[0;34m(\u001b[0m\u001b[0mhandle\u001b[0m\u001b[0;34m)\u001b[0m\u001b[0;34m\u001b[0m\u001b[0;34m\u001b[0m\u001b[0m\n\u001b[1;32m    713\u001b[0m \u001b[0;34m\u001b[0m\u001b[0m\n",
      "\u001b[0;31mFileNotFoundError\u001b[0m: [Errno 2] No such file or directory: 'Strength AnalysisData.xlsx'"
     ]
    }
   ],
   "source": [
    "# for each excel sheet write to json\n",
    "\n",
    "for i in range(len(excelSheets)):\n",
    "    df = pd.read_excel(excelSheets[i])\n",
    "#     print(df.info())\n",
    "    # can only compute if you have this\n",
    "    process_df = pd.DataFrame()\n",
    "    for index, row in df.iterrows():\n",
    "        est_val = row[\"EST. VALUE IN CURRENCY\"]\n",
    "        if pd.notna(est_val):\n",
    "            min_prob = row[\"MIN PROB  %\"]\n",
    "            real_prob = row[\"REALISTIC PROB  %\"]\n",
    "            max_prob = row[\"MAX PROB %\"]\n",
    "            threePoint_prob = row[\"STATS PROB % ( 3 POINT BASED)\"]\n",
    "            pert_prob = row[\"STATS PROB % (PERT BASED)\"]\n",
    "\n",
    "            minAdjust = getMinProbAdjust(est_val, min_prob)\n",
    "            maxAdjust = getMaxProbAdjust(est_val, max_prob)\n",
    "            avgAdjust = getAvgProbAdjust(minAdjust, maxAdjust)\n",
    "            realAdjust = getRealProbAdjust(est_val, real_prob)\n",
    "            threePointAdjust = get3PointProbAdjust(est_val, threePoint_prob)\n",
    "            pertAdjust = getPertAdjust(est_val, pert_prob)\n",
    "\n",
    "            # save to df\n",
    "            row[\"MIN PROB ADJUSTED VALUE\"] = minAdjust\n",
    "            row[\"MAX PROB ADJUSTED VALUE\"] = maxAdjust\n",
    "            row[\"AVERAGE PROB ADJUSTED VALUE\"] = avgAdjust\n",
    "            row[\"REALISTIC PROB ADJUSTED VALUE\"] = realAdjust\n",
    "            row[\"3 POINT BASED PROB ADJUSTED VALUE\"] = threePointAdjust\n",
    "            row[\"PERT BASED PROB ADJUSTED VALUE\"] = pertAdjust\n",
    "        else:\n",
    "            # just set everything to 0 because no EST value hence nothing\n",
    "            row[\"EST. VALUE IN CURRENCY\"] = 0\n",
    "            row[\"MIN PROB  %\"] = 0\n",
    "            row[\"REALISTIC PROB  %\"] = 0\n",
    "            row[\"MAX PROB %\"] = 0\n",
    "            row[\"STATS PROB % ( 3 POINT BASED)\"] = 0\n",
    "            row[\"STATS PROB % (PERT BASED)\"] = 0\n",
    "            row[\"MIN PROB ADJUSTED VALUE\"] = 0\n",
    "            row[\"MAX PROB ADJUSTED VALUE\"] = 0\n",
    "            row[\"AVERAGE PROB ADJUSTED VALUE\"] = 0\n",
    "            row[\"REALISTIC PROB ADJUSTED VALUE\"] = 0\n",
    "            row[\"3 POINT BASED PROB ADJUSTED VALUE\"] = 0\n",
    "            row[\"PERT BASED PROB ADJUSTED VALUE\"] = 0\n",
    "            \n",
    "        process_df = process_df.append(row)\n",
    "        \n",
    "#         process_df.head()\n",
    "    print(process_df.info())\n",
    "    with open(\"json_files/\" + jsonNames[i], 'w') as f:\n",
    "        f.write(process_df.to_json(orient='records', indent=2))\n"
   ]
  },
  {
   "cell_type": "code",
   "execution_count": null,
   "id": "2cc5a1c1",
   "metadata": {},
   "outputs": [],
   "source": []
  }
 ],
 "metadata": {
  "kernelspec": {
   "display_name": "Python 3 (ipykernel)",
   "language": "python",
   "name": "python3"
  },
  "language_info": {
   "codemirror_mode": {
    "name": "ipython",
    "version": 3
   },
   "file_extension": ".py",
   "mimetype": "text/x-python",
   "name": "python",
   "nbconvert_exporter": "python",
   "pygments_lexer": "ipython3",
   "version": "3.9.7"
  }
 },
 "nbformat": 4,
 "nbformat_minor": 5
}
